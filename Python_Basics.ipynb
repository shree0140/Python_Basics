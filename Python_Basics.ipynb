{
  "nbformat": 4,
  "nbformat_minor": 0,
  "metadata": {
    "colab": {
      "provenance": [],
      "authorship_tag": "ABX9TyNtzywyIFxdhQM5puPC6+6T",
      "include_colab_link": true
    },
    "kernelspec": {
      "name": "python3",
      "display_name": "Python 3"
    },
    "language_info": {
      "name": "python"
    }
  },
  "cells": [
    {
      "cell_type": "markdown",
      "metadata": {
        "id": "view-in-github",
        "colab_type": "text"
      },
      "source": [
        "<a href=\"https://colab.research.google.com/github/shree0140/Python_Basics/blob/main/Python_Basics.ipynb\" target=\"_parent\"><img src=\"https://colab.research.google.com/assets/colab-badge.svg\" alt=\"Open In Colab\"/></a>"
      ]
    },
    {
      "cell_type": "markdown",
      "source": [
        "**Python Basics**:"
      ],
      "metadata": {
        "id": "bJ6nr9zw5w1r"
      }
    },
    {
      "cell_type": "markdown",
      "source": [
        "Print Method:\n"
      ],
      "metadata": {
        "id": "XC4UHVcW535x"
      }
    },
    {
      "cell_type": "code",
      "source": [
        "print(\"Hello World of Python and Data Science.\")"
      ],
      "metadata": {
        "colab": {
          "base_uri": "https://localhost:8080/"
        },
        "id": "HJDfCGJR58V9",
        "outputId": "8159f8dc-ba9e-4b2e-a4f2-6e2ab8b25c56"
      },
      "execution_count": null,
      "outputs": [
        {
          "output_type": "stream",
          "name": "stdout",
          "text": [
            "Hello World of Python and Data Science.\n"
          ]
        }
      ]
    },
    {
      "cell_type": "code",
      "source": [
        "print(\"Hello World of Python and Data Science.\", \"String_2.\" , sep=\"Custom_sep.\",end=\"Custom_end\")"
      ],
      "metadata": {
        "colab": {
          "base_uri": "https://localhost:8080/"
        },
        "id": "SPOM5IoM8MRP",
        "outputId": "4e37f9d5-a845-478a-d540-336c1bf97607"
      },
      "execution_count": null,
      "outputs": [
        {
          "output_type": "stream",
          "name": "stdout",
          "text": [
            "Hello World of Python and Data Science.Custom_sep.String_2.Custom_end"
          ]
        }
      ]
    },
    {
      "cell_type": "markdown",
      "source": [
        "Escape Sequence characters:\n"
      ],
      "metadata": {
        "id": "oIbaIavl6TIV"
      }
    },
    {
      "cell_type": "code",
      "source": [
        "print(\"Hello World of Python. \\'Hello World of Data Science.\")     #\\'"
      ],
      "metadata": {
        "colab": {
          "base_uri": "https://localhost:8080/"
        },
        "id": "pxucmrE96oXY",
        "outputId": "fbe2cdd3-112b-4528-d409-24b174bd8575"
      },
      "execution_count": null,
      "outputs": [
        {
          "output_type": "stream",
          "name": "stdout",
          "text": [
            "Hello World of Python. 'Hello World of Data Science.\n"
          ]
        }
      ]
    },
    {
      "cell_type": "code",
      "source": [
        "print(\"Hello World of Python. \\nHello World of Data Science.\")     #\\n"
      ],
      "metadata": {
        "colab": {
          "base_uri": "https://localhost:8080/"
        },
        "id": "3Z05EQW66YWC",
        "outputId": "48a0ee26-16c6-4472-9b22-383cb064fc26"
      },
      "execution_count": null,
      "outputs": [
        {
          "output_type": "stream",
          "name": "stdout",
          "text": [
            "Hello World of Python \n",
            "Hello World of Data Science.\n"
          ]
        }
      ]
    },
    {
      "cell_type": "code",
      "source": [
        "print(\"Hello World of Python. \\\"Hello World of Data Science.\")     #\\\""
      ],
      "metadata": {
        "colab": {
          "base_uri": "https://localhost:8080/"
        },
        "id": "RDP1CbDX607i",
        "outputId": "fb73a957-6de5-4cd4-d792-2d74659b2919"
      },
      "execution_count": null,
      "outputs": [
        {
          "output_type": "stream",
          "name": "stdout",
          "text": [
            "Hello World of Python. \"Hello World of Data Science.\n"
          ]
        }
      ]
    },
    {
      "cell_type": "code",
      "source": [
        "print(\"Hello World of Python. \\\\ Hello World of Data Science.\")     #\\\\"
      ],
      "metadata": {
        "colab": {
          "base_uri": "https://localhost:8080/"
        },
        "id": "AVyRSXZO6_yW",
        "outputId": "49ba11f7-45f6-4f0e-cd16-6d41f5083c98"
      },
      "execution_count": null,
      "outputs": [
        {
          "output_type": "stream",
          "name": "stdout",
          "text": [
            "Hello World of Python. \\ Hello World of Data Science.\n"
          ]
        }
      ]
    },
    {
      "cell_type": "code",
      "source": [
        "print(\"Hello World of Python. \\t Hello World of Data Science.\")     #t"
      ],
      "metadata": {
        "colab": {
          "base_uri": "https://localhost:8080/"
        },
        "id": "fbyEQKKF7TDc",
        "outputId": "091e502a-106e-4b7d-8835-f4e168d74f82"
      },
      "execution_count": null,
      "outputs": [
        {
          "output_type": "stream",
          "name": "stdout",
          "text": [
            "Hello World of Python. \t Hello World of Data Science.\n"
          ]
        }
      ]
    },
    {
      "cell_type": "code",
      "source": [
        "print(\"Hello World of Python. \\f Hello World of Data Science.\")"
      ],
      "metadata": {
        "colab": {
          "base_uri": "https://localhost:8080/"
        },
        "id": "cW77l0-r7eTu",
        "outputId": "818cf463-5fba-4b39-8825-9ea4bac6b8a4"
      },
      "execution_count": null,
      "outputs": [
        {
          "output_type": "stream",
          "name": "stdout",
          "text": [
            "Hello World of Python. \f Hello World of Data Science.\n"
          ]
        }
      ]
    },
    {
      "cell_type": "markdown",
      "source": [
        "Comments:"
      ],
      "metadata": {
        "id": "aj2sHSc99icT"
      }
    },
    {
      "cell_type": "code",
      "source": [
        "# print(\"Hello World of Python and Data Science.\")\n",
        "# print(\"Hello World of Python and Data Science.\")\n",
        "# print(\"Hello World of Python and Data Science.\")\n",
        "# print(\"Hello World of Python and Data Science.\")"
      ],
      "metadata": {
        "colab": {
          "base_uri": "https://localhost:8080/",
          "height": 53
        },
        "id": "I_h7mGef9mIE",
        "outputId": "8567023a-0f76-48e8-a2c8-fa70cf4dddd8"
      },
      "execution_count": null,
      "outputs": [
        {
          "output_type": "execute_result",
          "data": {
            "text/plain": [
              "'print(\"Hello World of Python and Data Science.\")\\nprint(\"Hello World of Python and Data Science.\")\\nprint(\"Hello World of Python and Data Science.\")\\nprint(\"Hello World of Python and Data Science.\")'"
            ],
            "application/vnd.google.colaboratory.intrinsic+json": {
              "type": "string"
            }
          },
          "metadata": {},
          "execution_count": 20
        }
      ]
    },
    {
      "cell_type": "markdown",
      "source": [
        "Variables:"
      ],
      "metadata": {
        "id": "L3k19ler-h6a"
      }
    },
    {
      "cell_type": "code",
      "source": [
        "a=1     #int\n",
        "b=1.5      #float\n",
        "c=\"String_data\"   #String\n",
        "d=True #Boolean_Data\n",
        "e = complex(1,2)    #complex_number\n",
        "print(e)"
      ],
      "metadata": {
        "colab": {
          "base_uri": "https://localhost:8080/"
        },
        "id": "XIUh2W1k-j53",
        "outputId": "265c8e05-a577-4700-ec3c-5243a8ef9dfb"
      },
      "execution_count": null,
      "outputs": [
        {
          "output_type": "stream",
          "name": "stdout",
          "text": [
            "(1+2j)\n"
          ]
        }
      ]
    },
    {
      "cell_type": "markdown",
      "source": [
        "Multiple_Variables:"
      ],
      "metadata": {
        "id": "8cQaKhja_M24"
      }
    },
    {
      "cell_type": "code",
      "source": [
        "x,y,z = \"red\",\"blue\",\"green\"\n",
        "print(x,y,z,sep=\"~\")"
      ],
      "metadata": {
        "colab": {
          "base_uri": "https://localhost:8080/"
        },
        "id": "s0P1VZTh_KeQ",
        "outputId": "4c81855b-5a3f-4a6c-e850-39fc69a9e713"
      },
      "execution_count": null,
      "outputs": [
        {
          "output_type": "stream",
          "name": "stdout",
          "text": [
            "red~blue~green\n"
          ]
        }
      ]
    },
    {
      "cell_type": "code",
      "source": [
        "colors=[\"red\",\"blue\",\"green\"]       #Collection Unpacking (list,tuple)\n",
        "x,y,z= colors\n",
        "print(x,y,z, sep=\" ~ \")\n"
      ],
      "metadata": {
        "colab": {
          "base_uri": "https://localhost:8080/"
        },
        "id": "-_0LG2K1_iGQ",
        "outputId": "7ef2af52-4285-472c-b59e-8c1b4fda5a6e"
      },
      "execution_count": null,
      "outputs": [
        {
          "output_type": "stream",
          "name": "stdout",
          "text": [
            "red ~ blue ~ green\n"
          ]
        }
      ]
    },
    {
      "cell_type": "markdown",
      "source": [
        "Typecasting:"
      ],
      "metadata": {
        "id": "mXi8n4TiAQMB"
      }
    },
    {
      "cell_type": "code",
      "source": [
        "a=\"1\"\n",
        "b=\"2\"\n",
        "print(a+b)              #String_Concatenation\n",
        "\n",
        "print(int(a)+int(b))    #Explicit typecasting\n",
        "c=3.5\n",
        "d=4\n",
        "\n",
        "e= c+d\n",
        "print(e)              #Implicit typecasting\n",
        "\n",
        "print(type(e))        #type_method- to tell datatype of variable"
      ],
      "metadata": {
        "colab": {
          "base_uri": "https://localhost:8080/"
        },
        "id": "LlNwt595APN5",
        "outputId": "269d7e90-2c6b-4ce4-ed0e-0fc53ecfec3c"
      },
      "execution_count": null,
      "outputs": [
        {
          "output_type": "stream",
          "name": "stdout",
          "text": [
            "12\n",
            "3\n",
            "7.5\n",
            "<class 'float'>\n"
          ]
        }
      ]
    },
    {
      "cell_type": "markdown",
      "source": [
        "Users Input:"
      ],
      "metadata": {
        "id": "M3rSsfK3BiOX"
      }
    },
    {
      "cell_type": "code",
      "source": [
        "a = input()                          #by default str value\n",
        "print(a)\n",
        "print(type(a))\n",
        "\n",
        "b=int(input(\"Enter a number:\"))     #type casting value to int\n",
        "print(b)\n",
        "print(type(b))\n",
        "\n"
      ],
      "metadata": {
        "colab": {
          "base_uri": "https://localhost:8080/"
        },
        "id": "f1xgN35uBlAE",
        "outputId": "4f3549da-1aa2-4b80-a417-daaf808ebc79"
      },
      "execution_count": null,
      "outputs": [
        {
          "output_type": "stream",
          "name": "stdout",
          "text": [
            "1 \n",
            "1 \n",
            "<class 'str'>\n",
            "Enter a number:2\n",
            "2\n",
            "<class 'int'>\n",
            "Enter integer values for x,y,z:4 5 6\n",
            "4 ~ 5 ~ 6\n",
            "<class 'str'>\n",
            "5\n",
            "<class 'str'>\n",
            "<class 'str'>\n"
          ]
        }
      ]
    },
    {
      "cell_type": "code",
      "source": [
        "x,y,z= input(\"Enter integer values for x,y,z:\").split()\n",
        "print(x,y,z)\n",
        "print(type(x))\n",
        "print(int(y))  #datatype change is not permanent to the variable\n",
        "print(type(y))\n",
        "print(type(int(y)))       #datatype change can be seen for that instance\n"
      ],
      "metadata": {
        "colab": {
          "base_uri": "https://localhost:8080/"
        },
        "id": "_QWCknGZHvYb",
        "outputId": "268361eb-718f-4e61-cad2-91c6aebe1817"
      },
      "execution_count": null,
      "outputs": [
        {
          "output_type": "stream",
          "name": "stdout",
          "text": [
            "Enter integer values for x,y,z:1 2 3\n",
            "1 2 3\n",
            "<class 'str'>\n",
            "2\n",
            "<class 'str'>\n",
            "<class 'int'>\n"
          ]
        }
      ]
    },
    {
      "cell_type": "markdown",
      "source": [],
      "metadata": {
        "id": "9QogBeH_HubR"
      }
    },
    {
      "cell_type": "markdown",
      "source": [
        "String and String Methods:"
      ],
      "metadata": {
        "id": "ThH1K_g9DeBA"
      }
    },
    {
      "cell_type": "code",
      "source": [
        "text1=\"This is a one line test string\\n\"\n",
        "\n",
        "text2='''This is a multiline test string\n",
        "       and is divided in two parts.'''     #\"\"\"........\"\"\" can also be used for multilinr strings\n",
        "\n",
        "print(text1)\n",
        "print(text2)"
      ],
      "metadata": {
        "colab": {
          "base_uri": "https://localhost:8080/"
        },
        "id": "khDknu6_Mmoj",
        "outputId": "94c645bb-b386-40d9-e0b3-c22f334b324e"
      },
      "execution_count": null,
      "outputs": [
        {
          "output_type": "stream",
          "name": "stdout",
          "text": [
            "This is a one line test string\n",
            "\n",
            "This is a multiline test string\n",
            "       and is divided in two parts\n"
          ]
        }
      ]
    },
    {
      "cell_type": "code",
      "source": [
        "word = \"Python\"\n",
        "x=len(word)     #len method\n",
        "print(x)\n",
        "\n",
        "print(word[1])    #character at specific index from string\n",
        "\n",
        "print(word[0:3])    #string slicing\n",
        "print(word[:-1])\n"
      ],
      "metadata": {
        "colab": {
          "base_uri": "https://localhost:8080/"
        },
        "id": "1dU2Ix6mN4YG",
        "outputId": "bbebbb6c-4c4b-4ee5-e35e-22a8c28de0dd"
      },
      "execution_count": null,
      "outputs": [
        {
          "output_type": "stream",
          "name": "stdout",
          "text": [
            "6\n",
            "y\n",
            "Pyt\n",
            "Pytho\n"
          ]
        }
      ]
    },
    {
      "cell_type": "markdown",
      "source": [],
      "metadata": {
        "id": "vqEQA5LTNg_P"
      }
    },
    {
      "cell_type": "code",
      "source": [
        "word = \"Python\"\n",
        "print(word.upper()) #turns all characters in uppercase\n",
        "print(word.lower())#turns all characters in lowercase\n",
        "print(word.replace(\"Python\", \"Data_Science\")) #replace the mentioned word with the provided word\n",
        "\n",
        "text=\"Basics of Python!\"\n",
        "print(text.strip())  #Strips the mentioned character/ word from start or end of string\n",
        "print(text.capitalize()) #Capitalizes first alphabet of string\n",
        "print(text.istitle())  # returns true if all first characters of words in string are capital. else false\n",
        "print(text.rstrip(\"!\")) #strips mentioned thing from right end of string\n",
        "print(text.split(\" \")) #splits the string according to the mentioned character\n",
        "print(text.endswith(\"!\")) #returns bool val according to the match with string end\n",
        "print(text.index(\"of\"))  #returns index position of first occurance of word mentioned\n",
        "print(text.swapcase()) #swaps the case of each character from string\n",
        "print(text.title())  #convert first character of each word capital"
      ],
      "metadata": {
        "colab": {
          "base_uri": "https://localhost:8080/"
        },
        "id": "k_98qktiO_Eg",
        "outputId": "e663f7de-9bfc-4437-b6be-4e1c032e0133"
      },
      "execution_count": null,
      "outputs": [
        {
          "output_type": "stream",
          "name": "stdout",
          "text": [
            "PYTHON\n",
            "python\n",
            "Data_Science\n",
            "Basics of Python!\n",
            "Basics of python!\n",
            "False\n",
            "Basics of Python\n",
            "['Basics', 'of', 'Python!']\n",
            "True\n",
            "7\n",
            "bASICS OF pYTHON!\n",
            "Basics Of Python!\n"
          ]
        }
      ]
    },
    {
      "cell_type": "markdown",
      "source": [
        "if-else statement:"
      ],
      "metadata": {
        "id": "axaVfpvCTHHK"
      }
    },
    {
      "cell_type": "code",
      "source": [
        "text=input(\"Enter a word: \")\n",
        "print(text)\n",
        "\n",
        "string_1= \"Python is used for data science\"\n",
        "string_2= \"Data Science is a growing field\"\n",
        "if text in string_1:                      #in, not in membership operators\n",
        "  print(\"Present in str 1\")\n",
        "elif text in string_2:\n",
        "  print(\"Present in str 2\")\n",
        "else:\n",
        "  print(\"Not present\")\n"
      ],
      "metadata": {
        "colab": {
          "base_uri": "https://localhost:8080/"
        },
        "id": "BXScOkI5TNLu",
        "outputId": "d7d3a3e4-8a16-4330-c907-a9ca0e201cea"
      },
      "execution_count": null,
      "outputs": [
        {
          "output_type": "stream",
          "name": "stdout",
          "text": [
            "Enter a word: data Science\n",
            "data Science\n",
            "Not present\n"
          ]
        }
      ]
    },
    {
      "cell_type": "markdown",
      "source": [
        "Match Case Statement:"
      ],
      "metadata": {
        "id": "Y3CCA_9tXcWT"
      }
    },
    {
      "cell_type": "code",
      "source": [
        "x= int(input(\"Enter a no between 0-3: \"))\n",
        "match x:\n",
        "  case 0:\n",
        "    print(\"no is 0\")\n",
        "  case 1:\n",
        "    print(\"no is 1\")\n",
        "  case 2:\n",
        "    print(\"no is 2\")\n",
        "  case 3:\n",
        "    print(\"no is 3\")\n",
        "  case _:\n",
        "    print(\"Default case\")"
      ],
      "metadata": {
        "colab": {
          "base_uri": "https://localhost:8080/"
        },
        "id": "VimBMgUkXenX",
        "outputId": "abd73464-aef0-4562-8b98-220ed0173009"
      },
      "execution_count": null,
      "outputs": [
        {
          "output_type": "stream",
          "name": "stdout",
          "text": [
            "Enter a no between 0-3: 4\n",
            "Default case\n"
          ]
        }
      ]
    },
    {
      "cell_type": "markdown",
      "source": [
        "For Loop and while loop:\n"
      ],
      "metadata": {
        "id": "ryABjfJCYICj"
      }
    },
    {
      "cell_type": "code",
      "source": [
        "\n",
        "x=input(\"Enter numbers: \").split()\n",
        "print(x)\n",
        "\n",
        "for i in x:          #for loop\n",
        "  print(int(i),end=\" \")\n",
        "print(\"\\nAbove is output of for loop\")\n",
        "\n"
      ],
      "metadata": {
        "colab": {
          "base_uri": "https://localhost:8080/"
        },
        "id": "BMhrHjphYODi",
        "outputId": "20bd4173-d7fe-43ec-8206-1c4ce073cb20"
      },
      "execution_count": null,
      "outputs": [
        {
          "output_type": "stream",
          "name": "stdout",
          "text": [
            "Enter numbers: 1 2 3 4 5 6\n",
            "['1', '2', '3', '4', '5', '6']\n",
            "1 2 3 4 5 6 \n",
            "Above is output of for loop\n"
          ]
        }
      ]
    },
    {
      "cell_type": "code",
      "source": [
        "i = 0\n",
        "while(i<5):                #while loop\n",
        "  print(i,end=\" \")\n",
        "  i+=1\n",
        "print(\"\\nAbove is output of while loop\")"
      ],
      "metadata": {
        "colab": {
          "base_uri": "https://localhost:8080/"
        },
        "id": "1vZrPsTBpZho",
        "outputId": "913239e6-6f1b-49c3-dfe1-0039e90600ea"
      },
      "execution_count": null,
      "outputs": [
        {
          "output_type": "stream",
          "name": "stdout",
          "text": [
            "0 1 2 3 4 \n",
            "Above is output of while loop\n"
          ]
        }
      ]
    },
    {
      "cell_type": "markdown",
      "source": [
        "Functions:\n"
      ],
      "metadata": {
        "id": "y4ogRCDxqtIl"
      }
    },
    {
      "cell_type": "code",
      "source": [
        "def add_func(a,b):\n",
        "  c=a+b\n",
        "  print(\"The sum is:\",c)\n",
        "  return c\n",
        "\n",
        "\n",
        "sum = add_func(2,3)\n",
        "print(\"The summation using function is:\", sum)"
      ],
      "metadata": {
        "colab": {
          "base_uri": "https://localhost:8080/"
        },
        "id": "cGEQRlyZqv8Z",
        "outputId": "71e39d8a-3955-43db-bd9e-f990315af14b"
      },
      "execution_count": null,
      "outputs": [
        {
          "output_type": "stream",
          "name": "stdout",
          "text": [
            "The sum is: 5\n",
            "The summation using function is: 5\n"
          ]
        }
      ]
    },
    {
      "cell_type": "code",
      "source": [
        "def add_func(*numbers):       # *Arbitary arguments\n",
        "  sum=0\n",
        "  for i in numbers:\n",
        "    sum=sum+i\n",
        "  return sum\n",
        "\n",
        "\n",
        "sum = add_func(2,3,5,6,7)\n",
        "print(\"The summation using function is:\", sum)"
      ],
      "metadata": {
        "colab": {
          "base_uri": "https://localhost:8080/"
        },
        "id": "f9DIMDM2rZEo",
        "outputId": "3729bbea-f024-4a5b-f392-68e225ef0321"
      },
      "execution_count": null,
      "outputs": [
        {
          "output_type": "stream",
          "name": "stdout",
          "text": [
            "The summation using function is: 23\n"
          ]
        }
      ]
    },
    {
      "cell_type": "code",
      "source": [
        "def custom_method(**words):                                        #Keyword Arbitary arguments\n",
        "  print(\"The two words are\", words[\"first\"],\"and\",words[\"second\"])\n",
        "\n",
        "custom_method(first=\"Data\", second=\"Science\")"
      ],
      "metadata": {
        "colab": {
          "base_uri": "https://localhost:8080/"
        },
        "id": "ynSQERUGr5Ov",
        "outputId": "e45d4714-3d34-40ed-96ec-452118c96c4e"
      },
      "execution_count": null,
      "outputs": [
        {
          "output_type": "stream",
          "name": "stdout",
          "text": [
            "The two words are Data and Science\n"
          ]
        }
      ]
    },
    {
      "cell_type": "markdown",
      "source": [
        "Collections in python:\n",
        "\n",
        "1) Lists"
      ],
      "metadata": {
        "id": "VloPCIU3tnIN"
      }
    },
    {
      "cell_type": "code",
      "source": [
        "list_1 = [i for i in range(10) if i%2==0]            #list comprehension\n",
        "print(list_1)"
      ],
      "metadata": {
        "colab": {
          "base_uri": "https://localhost:8080/"
        },
        "id": "3UE2gy9atA3K",
        "outputId": "8116d0b2-6859-4b58-8042-7f201759873b"
      },
      "execution_count": null,
      "outputs": [
        {
          "output_type": "stream",
          "name": "stdout",
          "text": [
            "[0, 2, 4, 6, 8]\n"
          ]
        }
      ]
    },
    {
      "cell_type": "code",
      "source": [
        "print(list_1)\n",
        "list_1.append(10)\n",
        "print(list_1)\n"
      ],
      "metadata": {
        "colab": {
          "base_uri": "https://localhost:8080/"
        },
        "id": "o0I2_8vSub3t",
        "outputId": "cb22c55c-860b-472d-d6bc-e926dcb88ecc"
      },
      "execution_count": null,
      "outputs": [
        {
          "output_type": "stream",
          "name": "stdout",
          "text": [
            "[0, 2, 4, 6, 8]\n",
            "[0, 2, 4, 6, 8, 10]\n"
          ]
        }
      ]
    },
    {
      "cell_type": "code",
      "source": [
        "list_2=[1,2,3,4,5]\n",
        "list_2.clear()\n",
        "print(list_2)"
      ],
      "metadata": {
        "colab": {
          "base_uri": "https://localhost:8080/"
        },
        "id": "ZauMXplivhvE",
        "outputId": "642e96be-bf32-4971-ab13-bb8b4a687abd"
      },
      "execution_count": null,
      "outputs": [
        {
          "output_type": "stream",
          "name": "stdout",
          "text": [
            "[]\n"
          ]
        }
      ]
    },
    {
      "cell_type": "code",
      "source": [
        "list_2=[1,2,3,4,5]\n",
        "list_3= list_2.copy()\n",
        "print(list_3)"
      ],
      "metadata": {
        "colab": {
          "base_uri": "https://localhost:8080/"
        },
        "id": "y9YHbHE4vyLg",
        "outputId": "95a103e6-176e-4367-c0fc-f7659b1223bd"
      },
      "execution_count": null,
      "outputs": [
        {
          "output_type": "stream",
          "name": "stdout",
          "text": [
            "[1, 2, 3, 4, 5]\n"
          ]
        }
      ]
    },
    {
      "cell_type": "code",
      "source": [
        "list_4= [1,2,3,4,4,4,5,6,7]\n",
        "print(\"The count of 4's in list is: \", list_4.count(4))"
      ],
      "metadata": {
        "colab": {
          "base_uri": "https://localhost:8080/"
        },
        "id": "y1TBwo7lwJea",
        "outputId": "2e680918-0a13-45e0-e5d0-296f8c48a979"
      },
      "execution_count": null,
      "outputs": [
        {
          "output_type": "stream",
          "name": "stdout",
          "text": [
            "The count of 4's in list is:  3\n"
          ]
        }
      ]
    },
    {
      "cell_type": "code",
      "source": [
        "list_5=[1,2,3,4,5]\n",
        "list_6=[6,7,8,9]\n",
        "list_5.extend(list_6)\n",
        "print(\"Extended_list: \",list_5)"
      ],
      "metadata": {
        "colab": {
          "base_uri": "https://localhost:8080/"
        },
        "id": "-s-8I31twbD5",
        "outputId": "6ac439e6-c51c-4e60-fe19-a108b7ed3779"
      },
      "execution_count": null,
      "outputs": [
        {
          "output_type": "stream",
          "name": "stdout",
          "text": [
            "Extended_list:  [1, 2, 3, 4, 5, 6, 7, 8, 9]\n"
          ]
        }
      ]
    },
    {
      "cell_type": "code",
      "source": [
        "list_7=[1, 2, 3, 4, 5, 6, 7, 8, 9]\n",
        "index=list_7.index(5)\n",
        "print(\"Index position of 5 from list is:\", index)"
      ],
      "metadata": {
        "colab": {
          "base_uri": "https://localhost:8080/"
        },
        "id": "peGT0AaBxE2c",
        "outputId": "5d28a8dc-3fc6-4b68-a43b-d7b57ee8ae47"
      },
      "execution_count": null,
      "outputs": [
        {
          "output_type": "stream",
          "name": "stdout",
          "text": [
            "Index position of 5 from list is: 4\n"
          ]
        }
      ]
    },
    {
      "cell_type": "code",
      "source": [
        "list_8=[1,2,4]\n",
        "list_8.insert(2,3)\n",
        "print(list_8)"
      ],
      "metadata": {
        "colab": {
          "base_uri": "https://localhost:8080/"
        },
        "id": "ZRS4LMgZxX8s",
        "outputId": "3682ca37-fe23-44a9-c9c0-fe07368b1c6f"
      },
      "execution_count": null,
      "outputs": [
        {
          "output_type": "stream",
          "name": "stdout",
          "text": [
            "[1, 2, 3, 4]\n"
          ]
        }
      ]
    },
    {
      "cell_type": "code",
      "source": [
        "list_9=[1,2,3,4,5]\n",
        "list_9.pop()\n",
        "print(list_9)\n",
        "list_9.pop(1)\n",
        "print(list_9)"
      ],
      "metadata": {
        "colab": {
          "base_uri": "https://localhost:8080/"
        },
        "id": "plN0tVAKxr60",
        "outputId": "597c4639-eb0d-4907-e2e1-f6ee5ca096be"
      },
      "execution_count": null,
      "outputs": [
        {
          "output_type": "stream",
          "name": "stdout",
          "text": [
            "[1, 2, 3, 4]\n",
            "[1, 3, 4]\n"
          ]
        }
      ]
    },
    {
      "cell_type": "code",
      "source": [
        "list_10=[1,2,3,4,5,6,7]\n",
        "list_10.remove(2)\n",
        "print(list_10)\n"
      ],
      "metadata": {
        "colab": {
          "base_uri": "https://localhost:8080/"
        },
        "id": "6ZtzBzgXyEXi",
        "outputId": "2909ec63-7aad-4671-ef88-27ba5c0bad67"
      },
      "execution_count": null,
      "outputs": [
        {
          "output_type": "stream",
          "name": "stdout",
          "text": [
            "[1, 3, 4, 5, 6, 7]\n"
          ]
        }
      ]
    },
    {
      "cell_type": "code",
      "source": [
        "list_11=[1,2,3,4,5,6,7,8]\n",
        "list_11.reverse()\n",
        "print(list_11)"
      ],
      "metadata": {
        "colab": {
          "base_uri": "https://localhost:8080/"
        },
        "id": "BGeNIgZ0yPKD",
        "outputId": "8785a41e-d942-416d-b785-a16104d5f8c6"
      },
      "execution_count": null,
      "outputs": [
        {
          "output_type": "stream",
          "name": "stdout",
          "text": [
            "[8, 7, 6, 5, 4, 3, 2, 1]\n"
          ]
        }
      ]
    },
    {
      "cell_type": "code",
      "source": [
        "list_12=[2,4,6,1,8,5]\n",
        "list_12.sort()\n",
        "print(list_12)"
      ],
      "metadata": {
        "colab": {
          "base_uri": "https://localhost:8080/"
        },
        "id": "jJxN-Txuyg9s",
        "outputId": "b45b35f2-fd84-41a2-b990-0d9112782fda"
      },
      "execution_count": null,
      "outputs": [
        {
          "output_type": "stream",
          "name": "stdout",
          "text": [
            "[1, 2, 4, 5, 6, 8]\n"
          ]
        }
      ]
    },
    {
      "cell_type": "code",
      "source": [
        "list_13=[1,2,3]\n",
        "list_14=[4,5,6]\n",
        "concatenated_list= list_13 + list_14\n",
        "print(concatenated_list)"
      ],
      "metadata": {
        "colab": {
          "base_uri": "https://localhost:8080/"
        },
        "id": "JoU_TLzfyy9w",
        "outputId": "1429a11a-b05a-43a6-b16a-151d5ae2c08f"
      },
      "execution_count": null,
      "outputs": [
        {
          "output_type": "stream",
          "name": "stdout",
          "text": [
            "[1, 2, 3, 4, 5, 6]\n"
          ]
        }
      ]
    },
    {
      "cell_type": "markdown",
      "source": [
        "2) Tuple:"
      ],
      "metadata": {
        "id": "29uJXnkIzZIS"
      }
    },
    {
      "cell_type": "markdown",
      "source": [
        "- Almost similar methods as in Lists"
      ],
      "metadata": {
        "id": "Ijgv19iXzvu3"
      }
    },
    {
      "cell_type": "code",
      "source": [
        "tuple_1=(1,2,3,4,5,5,5,5,6,7)\n",
        "count = tuple_1.count(5)\n",
        "print(count)\n"
      ],
      "metadata": {
        "colab": {
          "base_uri": "https://localhost:8080/"
        },
        "id": "boZyelA_zVDy",
        "outputId": "4323a654-5555-436e-f404-834e582658dc"
      },
      "execution_count": null,
      "outputs": [
        {
          "output_type": "stream",
          "name": "stdout",
          "text": [
            "4\n"
          ]
        }
      ]
    },
    {
      "cell_type": "code",
      "source": [
        "tuple_2=(1,2,3,4,5)\n",
        "index_pos= tuple_2.index(4)\n",
        "print('Index position of 4 is:',index_pos)"
      ],
      "metadata": {
        "colab": {
          "base_uri": "https://localhost:8080/"
        },
        "id": "_mZFLWTV0CDn",
        "outputId": "cb387993-4f0d-4a85-abb2-b7731f95aa0c"
      },
      "execution_count": null,
      "outputs": [
        {
          "output_type": "stream",
          "name": "stdout",
          "text": [
            "Index position of 4 is: 3\n"
          ]
        }
      ]
    },
    {
      "cell_type": "code",
      "source": [
        "tuple_3=(1,2,3,4,5)           #modifying unchangeable tuple by coverting into list and then back to tuple\n",
        "list_of_tuple = list(tuple_3)\n",
        "print(list_of_tuple)\n",
        "last_item=list_of_tuple.pop()\n",
        "print(last_item)\n",
        "tuple_again=tuple(list_of_tuple)\n",
        "print(tuple_again)"
      ],
      "metadata": {
        "colab": {
          "base_uri": "https://localhost:8080/"
        },
        "id": "kDX2QiOd0SRa",
        "outputId": "764140d8-ecc0-44c4-e070-2a9806abb11d"
      },
      "execution_count": null,
      "outputs": [
        {
          "output_type": "stream",
          "name": "stdout",
          "text": [
            "[1, 2, 3, 4, 5]\n",
            "5\n",
            "(1, 2, 3, 4)\n"
          ]
        }
      ]
    },
    {
      "cell_type": "markdown",
      "source": [
        "3) Sets:"
      ],
      "metadata": {
        "id": "_91lenaJ5tAe"
      }
    },
    {
      "cell_type": "code",
      "source": [
        "set_1={1,2,3,4,5,5,5,6,7}\n",
        "print(set_1)"
      ],
      "metadata": {
        "colab": {
          "base_uri": "https://localhost:8080/"
        },
        "id": "6AxEPpN_5vis",
        "outputId": "21d32dab-3f21-4929-ffd2-b4b48cb4cf46"
      },
      "execution_count": null,
      "outputs": [
        {
          "output_type": "stream",
          "name": "stdout",
          "text": [
            "{1, 2, 3, 4, 5, 6, 7}\n"
          ]
        }
      ]
    },
    {
      "cell_type": "code",
      "source": [
        "set_2={1,2,3,4,5,5,5}           #add method\n",
        "set_2.add(6)\n",
        "print(set_2)"
      ],
      "metadata": {
        "colab": {
          "base_uri": "https://localhost:8080/"
        },
        "id": "iYpbPR4Z6QCO",
        "outputId": "9e9b7f9e-7a8a-4cd9-9461-b1bd3d8c99ed"
      },
      "execution_count": null,
      "outputs": [
        {
          "output_type": "stream",
          "name": "stdout",
          "text": [
            "{1, 2, 3, 4, 5, 6}\n"
          ]
        }
      ]
    },
    {
      "cell_type": "code",
      "source": [
        "set_2={1,2,3,4,5,5,5}\n",
        "set_2.clear()                  #clear method\n",
        "print(set_2)"
      ],
      "metadata": {
        "colab": {
          "base_uri": "https://localhost:8080/"
        },
        "id": "Bih1BW8N6ndR",
        "outputId": "9a5be7e8-e97b-437a-bb69-4496e176418c"
      },
      "execution_count": null,
      "outputs": [
        {
          "output_type": "stream",
          "name": "stdout",
          "text": [
            "set()\n"
          ]
        }
      ]
    },
    {
      "cell_type": "code",
      "source": [
        "set_2={1,2,3,4,5,5,5}\n",
        "set_3=set_2.copy()\n",
        "print(set_3)                        #copy method"
      ],
      "metadata": {
        "colab": {
          "base_uri": "https://localhost:8080/"
        },
        "id": "R_8wWI4B6wrx",
        "outputId": "721e08d7-8aae-464b-adca-4453112262bb"
      },
      "execution_count": null,
      "outputs": [
        {
          "output_type": "stream",
          "name": "stdout",
          "text": [
            "{1, 2, 3, 4, 5}\n"
          ]
        }
      ]
    },
    {
      "cell_type": "code",
      "source": [
        "set_4={1,2,3,4,5}\n",
        "set_5={3,4,5,6,7}\n",
        "difference_set= set_4.difference(set_5)             #difference method\n",
        "print(difference_set)"
      ],
      "metadata": {
        "colab": {
          "base_uri": "https://localhost:8080/"
        },
        "id": "gyNSKRwF626t",
        "outputId": "3a2d32eb-d513-420d-fab7-960065818b19"
      },
      "execution_count": null,
      "outputs": [
        {
          "output_type": "stream",
          "name": "stdout",
          "text": [
            "{1, 2}\n"
          ]
        }
      ]
    },
    {
      "cell_type": "code",
      "source": [
        "set_4={1,2,3,4,5}\n",
        "set_5={3,4,5,6,7}\n",
        "set_4.difference_update(set_5)           #difference_update\n",
        "print(set_4)"
      ],
      "metadata": {
        "colab": {
          "base_uri": "https://localhost:8080/"
        },
        "id": "v0l7NcVHAJJb",
        "outputId": "8e5ba94c-4946-401b-ec67-af81a78b09a5"
      },
      "execution_count": null,
      "outputs": [
        {
          "output_type": "stream",
          "name": "stdout",
          "text": [
            "{1, 2}\n"
          ]
        }
      ]
    },
    {
      "cell_type": "code",
      "source": [
        "set_6={1,2,3,4,5}\n",
        "set_6.discard(3)                   #discard method\n",
        "print(set_6)"
      ],
      "metadata": {
        "colab": {
          "base_uri": "https://localhost:8080/"
        },
        "id": "P1e74vxpAZRM",
        "outputId": "48fffa86-924a-41f5-cecb-d2b4dfaf5964"
      },
      "execution_count": null,
      "outputs": [
        {
          "output_type": "stream",
          "name": "stdout",
          "text": [
            "{1, 2, 4, 5}\n"
          ]
        }
      ]
    },
    {
      "cell_type": "code",
      "source": [
        "set_7={1,2,3,4,5}\n",
        "set_8={5,6,7,8}\n",
        "intersected_set = set_7.intersection(set_8)                        #intersection method\n",
        "print(intersected_set)"
      ],
      "metadata": {
        "colab": {
          "base_uri": "https://localhost:8080/"
        },
        "id": "_p834iyFAjnZ",
        "outputId": "51e6f9d7-b068-4512-e109-ede368893995"
      },
      "execution_count": null,
      "outputs": [
        {
          "output_type": "stream",
          "name": "stdout",
          "text": [
            "{5}\n"
          ]
        }
      ]
    },
    {
      "cell_type": "code",
      "source": [
        "set_7={1,2,3,4,5}\n",
        "set_8={5,6,7,8}\n",
        "set_7.intersection_update(set_8)                        #intersection update method\n",
        "print(set_7)"
      ],
      "metadata": {
        "colab": {
          "base_uri": "https://localhost:8080/"
        },
        "id": "hSi4QG18A_Vh",
        "outputId": "a9167232-bb50-4645-b792-79d39eeb6f5d"
      },
      "execution_count": null,
      "outputs": [
        {
          "output_type": "stream",
          "name": "stdout",
          "text": [
            "{5}\n"
          ]
        }
      ]
    },
    {
      "cell_type": "code",
      "source": [
        "set_9={1,2,3,4}\n",
        "set_10={1,3,5,56}\n",
        "set_11={9,7,8}\n",
        "result_1=set_9.isdisjoint(set_10)      #is disjoint method\n",
        "print(result_1)\n",
        "result_2 = set_9.isdisjoint(set_11)\n",
        "print(result_2)"
      ],
      "metadata": {
        "colab": {
          "base_uri": "https://localhost:8080/"
        },
        "id": "DPH_6GWtBeNG",
        "outputId": "5e3989c1-5645-40ec-e325-fe65f2447a69"
      },
      "execution_count": null,
      "outputs": [
        {
          "output_type": "stream",
          "name": "stdout",
          "text": [
            "False\n",
            "True\n"
          ]
        }
      ]
    },
    {
      "cell_type": "code",
      "source": [
        "set_9={1,2,3,4}\n",
        "set_10={1,3}\n",
        "set_11={4,9,7,8}\n",
        "print(set_9.issuperset(set_10))\n",
        "print(set_10.issuperset(set_9))     #superset method\n",
        "print(set_9.issubset(set_10))\n",
        "print(set_10.issubset(set_9))           #subset method"
      ],
      "metadata": {
        "colab": {
          "base_uri": "https://localhost:8080/"
        },
        "id": "Xhe_83wFCBlx",
        "outputId": "a0339004-8193-4c57-83a0-8508134d9ed1"
      },
      "execution_count": null,
      "outputs": [
        {
          "output_type": "stream",
          "name": "stdout",
          "text": [
            "True\n",
            "False\n",
            "False\n",
            "True\n"
          ]
        }
      ]
    },
    {
      "cell_type": "code",
      "source": [
        "set_12={1,2,3,4,5}\n",
        "output=set_12.pop()             #pop method\n",
        "print(output)\n"
      ],
      "metadata": {
        "colab": {
          "base_uri": "https://localhost:8080/"
        },
        "id": "wFOQL7iQCgDM",
        "outputId": "db6749d6-7409-44a2-c8bb-f92479a10e22"
      },
      "execution_count": null,
      "outputs": [
        {
          "output_type": "stream",
          "name": "stdout",
          "text": [
            "1\n"
          ]
        }
      ]
    },
    {
      "cell_type": "code",
      "source": [
        "set_12={1,2,3,4,5}\n",
        "output=set_12.remove(2)              #remove method\n",
        "print(set_12)\n",
        "print(output)"
      ],
      "metadata": {
        "colab": {
          "base_uri": "https://localhost:8080/"
        },
        "id": "-80u5cHjEJla",
        "outputId": "b9b6c1af-51f1-4a41-86ef-f28cb9afa723"
      },
      "execution_count": null,
      "outputs": [
        {
          "output_type": "stream",
          "name": "stdout",
          "text": [
            "{1, 3, 4, 5}\n",
            "None\n"
          ]
        }
      ]
    },
    {
      "cell_type": "code",
      "source": [
        "set_13={1,2,3,4,5}\n",
        "set_14={3,4,5,6,7}\n",
        "sym_diff_set = set_13.symmetric_difference(set_14)             #symmetric difference method\n",
        "print(sym_diff_set)"
      ],
      "metadata": {
        "colab": {
          "base_uri": "https://localhost:8080/"
        },
        "id": "MfaO_7OuEpi6",
        "outputId": "5ad6ef09-8176-4f84-c4b6-96b79ba30d02"
      },
      "execution_count": null,
      "outputs": [
        {
          "output_type": "stream",
          "name": "stdout",
          "text": [
            "{1, 2, 6, 7}\n"
          ]
        }
      ]
    },
    {
      "cell_type": "code",
      "source": [
        "set_13={1,2,3,4,5}\n",
        "set_14={3,4,5,6,7}\n",
        "set_13.symmetric_difference_update(set_14)           #symmetric diffrence update\n",
        "print(set_13)"
      ],
      "metadata": {
        "colab": {
          "base_uri": "https://localhost:8080/"
        },
        "id": "rinX_ZnuE3NH",
        "outputId": "2fcaa1c2-5b9f-484c-aa4e-3fb558b85211"
      },
      "execution_count": null,
      "outputs": [
        {
          "output_type": "stream",
          "name": "stdout",
          "text": [
            "{1, 2, 6, 7}\n"
          ]
        }
      ]
    },
    {
      "cell_type": "code",
      "source": [
        "set_13={1,2,3,4,5}\n",
        "set_14={3,4,5,6,7}\n",
        "union_set = set_13.union(set_14)                 #union method\n",
        "print(union_set)"
      ],
      "metadata": {
        "colab": {
          "base_uri": "https://localhost:8080/"
        },
        "id": "h9ppul5XE_8F",
        "outputId": "baaaf8f0-3abf-4f46-89f3-b4eb03f1b10e"
      },
      "execution_count": null,
      "outputs": [
        {
          "output_type": "stream",
          "name": "stdout",
          "text": [
            "{1, 2, 3, 4, 5, 6, 7}\n"
          ]
        }
      ]
    },
    {
      "cell_type": "code",
      "source": [
        "set_13={1,2,3,4,5}\n",
        "set_14={3,4,5,6,7}\n",
        "set_13.update(set_14)              #update method\n",
        "print(set_13)"
      ],
      "metadata": {
        "colab": {
          "base_uri": "https://localhost:8080/"
        },
        "id": "URcK3qXeFJe_",
        "outputId": "cb159e4f-3a6b-49b6-fc5a-c27c95373b50"
      },
      "execution_count": null,
      "outputs": [
        {
          "output_type": "stream",
          "name": "stdout",
          "text": [
            "{1, 2, 3, 4, 5, 6, 7}\n"
          ]
        }
      ]
    },
    {
      "cell_type": "code",
      "source": [
        "empty_set = set()                #to get empty set\n",
        "print(empty_set)"
      ],
      "metadata": {
        "colab": {
          "base_uri": "https://localhost:8080/"
        },
        "id": "2MB1NIF-G-oE",
        "outputId": "ed992e30-1e93-4d82-ba27-283227e21c48"
      },
      "execution_count": null,
      "outputs": [
        {
          "output_type": "stream",
          "name": "stdout",
          "text": [
            "set()\n"
          ]
        }
      ]
    },
    {
      "cell_type": "markdown",
      "source": [
        "4) Dictionary:"
      ],
      "metadata": {
        "id": "JBSh6mFQG21-"
      }
    },
    {
      "cell_type": "code",
      "source": [
        "dict_1 ={\"a\":1,\"b\":2,\"c\":3}               #clear dic method\n",
        "dict_1.clear()\n",
        "print(dict_1)"
      ],
      "metadata": {
        "colab": {
          "base_uri": "https://localhost:8080/"
        },
        "id": "W_5qyFBTG128",
        "outputId": "2c3d58b7-79a5-45d4-a1cc-b131686d5846"
      },
      "execution_count": null,
      "outputs": [
        {
          "output_type": "stream",
          "name": "stdout",
          "text": [
            "{}\n"
          ]
        }
      ]
    },
    {
      "cell_type": "code",
      "source": [
        "dict_1 ={\"a\":1,\"b\":2,\"c\":3}\n",
        "dict_2=dict_1.copy()              #copy dict method\n",
        "print(dict_2)"
      ],
      "metadata": {
        "colab": {
          "base_uri": "https://localhost:8080/"
        },
        "id": "bJYHaRLVWfDa",
        "outputId": "2d9e33cb-c66f-495d-dac9-57d0af2a9844"
      },
      "execution_count": null,
      "outputs": [
        {
          "output_type": "stream",
          "name": "stdout",
          "text": [
            "{'a': 1, 'b': 2, 'c': 3}\n"
          ]
        }
      ]
    },
    {
      "cell_type": "code",
      "source": [
        "keys=[\"a\",\"b\",\"c\"]\n",
        "default_val = 0                        #dict creation from list of keys with default value\n",
        "new_dict = dict.fromkeys(keys,default_val)\n",
        "print(new_dict)"
      ],
      "metadata": {
        "colab": {
          "base_uri": "https://localhost:8080/"
        },
        "id": "9O94g01wW16p",
        "outputId": "7784f602-1c36-4eda-d4c3-b9feb817aeb8"
      },
      "execution_count": null,
      "outputs": [
        {
          "output_type": "stream",
          "name": "stdout",
          "text": [
            "{'a': 0, 'b': 0, 'c': 0}\n"
          ]
        }
      ]
    },
    {
      "cell_type": "code",
      "source": [
        "dict_1 ={\"a\":1,\"b\":2,\"c\":3}\n",
        "value = dict_1.get(\"b\")                   #to get a val of key\n",
        "print(value)"
      ],
      "metadata": {
        "colab": {
          "base_uri": "https://localhost:8080/"
        },
        "id": "UzAyMkplXP1a",
        "outputId": "4c4aecf9-8f1c-4ccc-e060-14bbd6f7f628"
      },
      "execution_count": null,
      "outputs": [
        {
          "output_type": "stream",
          "name": "stdout",
          "text": [
            "2\n"
          ]
        }
      ]
    },
    {
      "cell_type": "code",
      "source": [
        "dict_1 ={\"a\":1,\"b\":2,\"c\":3}\n",
        "items = dict_1.items()          #to get items of dict\n",
        "print(items)"
      ],
      "metadata": {
        "colab": {
          "base_uri": "https://localhost:8080/"
        },
        "id": "WB3n66QFXcin",
        "outputId": "b1397d14-7efa-405e-99eb-7c29d253183a"
      },
      "execution_count": null,
      "outputs": [
        {
          "output_type": "stream",
          "name": "stdout",
          "text": [
            "dict_items([('a', 1), ('b', 2), ('c', 3)])\n"
          ]
        }
      ]
    },
    {
      "cell_type": "code",
      "source": [
        "dict_1 ={\"a\":1,\"b\":2,\"c\":3}\n",
        "keys=dict_1.keys()               #to get keys of dict\n",
        "print(keys)"
      ],
      "metadata": {
        "colab": {
          "base_uri": "https://localhost:8080/"
        },
        "id": "5USvj_PGXqCy",
        "outputId": "96f241f2-0156-4dcd-862e-3063016f0d1a"
      },
      "execution_count": null,
      "outputs": [
        {
          "output_type": "stream",
          "name": "stdout",
          "text": [
            "dict_keys(['a', 'b', 'c'])\n"
          ]
        }
      ]
    },
    {
      "cell_type": "code",
      "source": [
        "dict_1 ={\"a\":1,\"b\":2,\"c\":3}\n",
        "values=dict_1.values()                    #to get values of dict\n",
        "print(values)"
      ],
      "metadata": {
        "colab": {
          "base_uri": "https://localhost:8080/"
        },
        "id": "evo8-ZLvXzpv",
        "outputId": "4bcf1a97-d214-4d7d-b46d-7061eb90b66a"
      },
      "execution_count": null,
      "outputs": [
        {
          "output_type": "stream",
          "name": "stdout",
          "text": [
            "dict_values([1, 2, 3])\n"
          ]
        }
      ]
    },
    {
      "cell_type": "code",
      "source": [
        "dict_1 ={\"a\":1,\"b\":2,\"c\":3}\n",
        "val=dict_1.pop(\"b\")                     #to get specific value of certain key\n",
        "print(val)"
      ],
      "metadata": {
        "colab": {
          "base_uri": "https://localhost:8080/"
        },
        "id": "ZbPFSE_-YJna",
        "outputId": "8bbcb99d-656e-4eb1-d0d3-6a1f8b7fd16e"
      },
      "execution_count": null,
      "outputs": [
        {
          "output_type": "stream",
          "name": "stdout",
          "text": [
            "2\n"
          ]
        }
      ]
    },
    {
      "cell_type": "code",
      "source": [
        "dict_1 ={\"a\":1,\"b\":2,\"c\":3}\n",
        "item=dict_1.popitem()\n",
        "print(item)                       #to get an arbitary item"
      ],
      "metadata": {
        "colab": {
          "base_uri": "https://localhost:8080/"
        },
        "id": "GmBXthFmYQA2",
        "outputId": "8bd89033-9a5d-4563-d4ed-40d5665e185d"
      },
      "execution_count": null,
      "outputs": [
        {
          "output_type": "stream",
          "name": "stdout",
          "text": [
            "('c', 3)\n"
          ]
        }
      ]
    },
    {
      "cell_type": "code",
      "source": [
        "dict_1 ={\"a\":1,\"b\":2,\"c\":3}\n",
        "dict_2={\"b\":3, \"c\":4,\"d\":5}\n",
        "dict_1.update(dict_2)\n",
        "print(dict_1)                   #to update dict 1 with contents of dict 2"
      ],
      "metadata": {
        "colab": {
          "base_uri": "https://localhost:8080/"
        },
        "id": "B6p-BHBbYf9s",
        "outputId": "7e823dd9-03ab-43b7-d7b8-88c70851827f"
      },
      "execution_count": null,
      "outputs": [
        {
          "output_type": "stream",
          "name": "stdout",
          "text": [
            "{'a': 1, 'b': 3, 'c': 4, 'd': 5}\n"
          ]
        }
      ]
    },
    {
      "cell_type": "code",
      "source": [
        "dict_1 ={\"a\":1,\"b\":2,\"c\":3}\n",
        "val=dict_1.setdefault(\"d\",4)                  #to set a key value pair\n",
        "print(val)\n",
        "print(dict_1)"
      ],
      "metadata": {
        "colab": {
          "base_uri": "https://localhost:8080/"
        },
        "id": "NqbesbcrZrY4",
        "outputId": "9bb0a32d-828b-4415-dd03-20dcf8b1d5df"
      },
      "execution_count": null,
      "outputs": [
        {
          "output_type": "stream",
          "name": "stdout",
          "text": [
            "4\n",
            "{'a': 1, 'b': 2, 'c': 3, 'd': 4}\n"
          ]
        }
      ]
    }
  ]
}